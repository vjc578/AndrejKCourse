{
 "cells": [
  {
   "cell_type": "code",
   "execution_count": 3,
   "id": "02afc845-e5ce-4d2d-abef-b60ad388241d",
   "metadata": {},
   "outputs": [],
   "source": [
    "import torch\n",
    "import torch.nn.functional as F\n",
    "import matplotlib.pyplot as plt\n",
    "%matplotlib inline"
   ]
  },
  {
   "cell_type": "code",
   "execution_count": 4,
   "id": "c4aafd95-2110-4a50-90ae-e88240e322a9",
   "metadata": {},
   "outputs": [],
   "source": [
    "words = open('names.txt').read().splitlines()\n"
   ]
  },
  {
   "cell_type": "code",
   "execution_count": 6,
   "id": "7cb72ce6-7538-47e1-8f7a-925122c35c2b",
   "metadata": {},
   "outputs": [
    {
     "name": "stdout",
     "output_type": "stream",
     "text": [
      "{1: 'a', 2: 'b', 3: 'c', 4: 'd', 5: 'e', 6: 'f', 7: 'g', 8: 'h', 9: 'i', 10: 'j', 11: 'k', 12: 'l', 13: 'm', 14: 'n', 15: 'o', 16: 'p', 17: 'q', 18: 'r', 19: 's', 20: 't', 21: 'u', 22: 'v', 23: 'w', 24: 'x', 25: 'y', 26: 'z', 0: '.'}\n"
     ]
    }
   ],
   "source": [
    "chars = sorted(list(set(''.join(words))))\n",
    "stoi = {s:i+1 for i,s in enumerate(chars)}\n",
    "stoi['.'] = 0\n",
    "itos = {i:s for s,i in stoi.items()}\n",
    "print(itos)"
   ]
  },
  {
   "cell_type": "code",
   "execution_count": 183,
   "id": "f473ab4b-0284-4954-8036-0ad029487b49",
   "metadata": {},
   "outputs": [],
   "source": [
    "# build the dataset\n",
    "import random\n",
    "\n",
    "blocksize = 3\n",
    "\n",
    "def build_dataset(words):\n",
    "    X = []\n",
    "    Y = []\n",
    "    for word in words:\n",
    "        context = [0] * blocksize\n",
    "        for ch in word + '.':\n",
    "            ix = stoi[ch]\n",
    "            X.append(context)\n",
    "            Y.append(ix)\n",
    "            context = context[1:] + [ix]\n",
    "    \n",
    "    X = torch.tensor(X)\n",
    "    Y = torch.tensor(Y)\n",
    "    return X,Y\n",
    "\n",
    "random.seed(42)\n",
    "random.shuffle(words)\n",
    "n1 = int(0.8*len(words))\n",
    "n2 = int(0.9*len(words))\n",
    "[X, Y] = build_dataset(words[:n1])\n",
    "[XV, YV] = build_dataset(words[n1:n2])\n",
    "[XT, YT] = build_dataset(words[n2:])"
   ]
  },
  {
   "cell_type": "code",
   "execution_count": 184,
   "id": "f09fafb4-46a6-44b2-94ff-7ae28c08fdac",
   "metadata": {},
   "outputs": [],
   "source": [
    "# Two dimensional embedding\n",
    "C = torch.randn((27, 10), requires_grad=True)\n",
    "embedding_sum_size = C.shape[1] * blocksize"
   ]
  },
  {
   "cell_type": "code",
   "execution_count": 185,
   "id": "d1621a7e-c6fc-428d-9a9e-7fbc1216b950",
   "metadata": {},
   "outputs": [],
   "source": [
    "W1 = torch.randn((embedding_sum_size, 200), requires_grad=True)\n",
    "b1 = torch.randn(W1.shape[1], requires_grad=True)\n",
    "W2 = torch.randn((W1.shape[1], 27), requires_grad=True)\n",
    "b2 = torch.randn(W2.shape[1], requires_grad=True)\n",
    "parameters = [C, W1, b1, W2, b2]"
   ]
  },
  {
   "cell_type": "code",
   "execution_count": 194,
   "id": "f344f0ec-9e78-4765-8fe1-7ec75ef25eae",
   "metadata": {},
   "outputs": [
    {
     "name": "stdout",
     "output_type": "stream",
     "text": [
      "Train: 2.316354513168335 Validation: 2.331671953201294 Test: 2.3411452770233154\n"
     ]
    }
   ],
   "source": [
    "def forward(emb, target):\n",
    "    h = torch.tanh(emb.view(-1, embedding_sum_size) @ W1 + b1)\n",
    "    # Output layer\n",
    "    logits = h @ W2 + b2\n",
    "    \n",
    "    # Cross entropy loss\n",
    "    anll = F.cross_entropy(logits, target)\n",
    "\n",
    "    return anll\n",
    "\n",
    "for _ in range(10000):\n",
    "    ix = torch.randint(0, X.shape[0], (64, ))\n",
    "    # Forward pass\n",
    "    # Embedded values\n",
    "    emb = C[X[ix]]\n",
    "    \n",
    "    # Cross entropy loss\n",
    "    anll = forward(emb, Y[ix])\n",
    "\n",
    "    for p in parameters:\n",
    "        p.grad = None\n",
    "        \n",
    "    anll.backward()\n",
    "    \n",
    "    learning_rate = 0.05\n",
    "    for p in parameters:\n",
    "        p.data += -learning_rate * p.grad\n",
    "        \n",
    "print(f'Train: {forward(C[X], Y)} Validation: {forward(C[XV], YV)} Test: {forward(C[XT], YT)}')"
   ]
  },
  {
   "cell_type": "code",
   "execution_count": 187,
   "id": "1fd67ddd-d461-4b8f-bf0e-20ce91d59762",
   "metadata": {},
   "outputs": [],
   "source": [
    "# training split (for training), # dev/validation (for hyperparemeter tuning), # test split (for final evaluation)"
   ]
  },
  {
   "cell_type": "code",
   "execution_count": 195,
   "id": "c225272c-ab0d-4c3c-bb67-90e1c7348524",
   "metadata": {},
   "outputs": [
    {
     "name": "stdout",
     "output_type": "stream",
     "text": [
      "zeah.\n",
      "buslaeseseuaushur.\n",
      "raymeelyanah.\n",
      "adie.\n",
      "mulem.\n",
      "issimarlandrostae.\n",
      "malon.\n",
      "mashet.\n",
      "matir.\n",
      "nana.\n",
      "ala.\n",
      "sily.\n",
      "jona.\n",
      "jyon.\n",
      "kasharri.\n",
      "tro.\n",
      "zoler.\n",
      "scee.\n",
      "jasha.\n",
      "gunta.\n"
     ]
    }
   ],
   "source": [
    "for _ in range(20):\n",
    "    out = []\n",
    "    context = [0] * blocksize\n",
    "    while True:\n",
    "        emb = C[torch.tensor([context])]\n",
    "        h = torch.tanh(emb.view(1, -1) @ W1 + b1)\n",
    "        logits = h @ W2 + b2\n",
    "        probs = F.softmax(logits, dim=1)\n",
    "        ix = torch.multinomial(probs, num_samples=1).item()\n",
    "        context = context[1:] + [ix]\n",
    "        out.append(ix)\n",
    "        if ix == 0:\n",
    "            break\n",
    "    print(''.join(itos[i] for i in out))"
   ]
  },
  {
   "cell_type": "code",
   "execution_count": null,
   "id": "dcca0661-de0c-41de-b9e3-e29ab9f96d12",
   "metadata": {},
   "outputs": [],
   "source": []
  },
  {
   "cell_type": "code",
   "execution_count": null,
   "id": "936f881b-f97c-4171-a2ea-656e06d5ac37",
   "metadata": {},
   "outputs": [],
   "source": []
  }
 ],
 "metadata": {
  "kernelspec": {
   "display_name": "Python 3 (ipykernel)",
   "language": "python",
   "name": "python3"
  },
  "language_info": {
   "codemirror_mode": {
    "name": "ipython",
    "version": 3
   },
   "file_extension": ".py",
   "mimetype": "text/x-python",
   "name": "python",
   "nbconvert_exporter": "python",
   "pygments_lexer": "ipython3",
   "version": "3.9.6"
  }
 },
 "nbformat": 4,
 "nbformat_minor": 5
}
